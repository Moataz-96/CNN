{
 "cells": [
  {
   "cell_type": "code",
   "execution_count": 1,
   "metadata": {},
   "outputs": [],
   "source": [
    "import tensorflow as tf\n",
    "from tensorflow import keras"
   ]
  },
  {
   "cell_type": "code",
   "execution_count": 2,
   "metadata": {},
   "outputs": [
    {
     "data": {
      "text/plain": [
       "['__builtins__',\n",
       " '__cached__',\n",
       " '__doc__',\n",
       " '__file__',\n",
       " '__loader__',\n",
       " '__name__',\n",
       " '__package__',\n",
       " '__path__',\n",
       " '__spec__',\n",
       " '_sys',\n",
       " 'boston_housing',\n",
       " 'cifar10',\n",
       " 'cifar100',\n",
       " 'fashion_mnist',\n",
       " 'imdb',\n",
       " 'mnist',\n",
       " 'reuters']"
      ]
     },
     "execution_count": 2,
     "metadata": {},
     "output_type": "execute_result"
    }
   ],
   "source": [
    "dir(keras.datasets)"
   ]
  },
  {
   "cell_type": "code",
   "execution_count": 3,
   "metadata": {},
   "outputs": [],
   "source": [
    "fashion_mnist = keras.datasets.fashion_mnist.load_data()"
   ]
  },
  {
   "cell_type": "code",
   "execution_count": 4,
   "metadata": {},
   "outputs": [],
   "source": [
    "(X_train_full, y_train_full), (X_test, y_test) = fashion_mnist"
   ]
  },
  {
   "cell_type": "code",
   "execution_count": 5,
   "metadata": {},
   "outputs": [
    {
     "name": "stdout",
     "output_type": "stream",
     "text": [
      "(60000, 28, 28)\n",
      "(10000, 28, 28)\n"
     ]
    }
   ],
   "source": [
    "print(X_train_full.shape)\n",
    "print(X_test.shape)"
   ]
  },
  {
   "cell_type": "code",
   "execution_count": 6,
   "metadata": {},
   "outputs": [],
   "source": [
    "class_names = [\"T-shirt/top\", \"Trouser\", \"Pullover\", \"Dress\", \"Coat\",\n",
    "\"Sandal\", \"Shirt\", \"Sneaker\", \"Bag\", \"Ankle boot\"]"
   ]
  },
  {
   "cell_type": "code",
   "execution_count": 7,
   "metadata": {},
   "outputs": [],
   "source": [
    "#Tensorboard Visualization\n",
    "import os\n",
    "root_logdir = os.path.join(os.curdir, \"my_logs\")\n",
    "def get_run_logdir():\n",
    "    import time\n",
    "    run_id = time.strftime(\"run_%Y_%m_%d-%H_%M_%S\")\n",
    "    return os.path.join(root_logdir, run_id)\n",
    "run_logdir = get_run_logdir() # e.g., './my_logs/run_2019_06_07-15_15_22'"
   ]
  },
  {
   "cell_type": "code",
   "execution_count": 9,
   "metadata": {},
   "outputs": [],
   "source": [
    "model = keras.models.Sequential()\n",
    "model.add(keras.layers.Flatten(input_shape=[28, 28]))\n",
    "model.add(keras.layers.Dense(300,kernel_initializer=\"he_normal\"))\n",
    "model.add(keras.layers.BatchNormalization())\n",
    "model.add(keras.layers.Activation('relu'))\n",
    "model.add(keras.layers.Dropout(rate = 0.2))\n",
    "model.add(keras.layers.Dense(300,kernel_initializer=\"he_normal\"))\n",
    "model.add(keras.layers.BatchNormalization())\n",
    "model.add(keras.layers.Activation('relu'))\n",
    "model.add(keras.layers.Dropout(rate = 0.2))\n",
    "model.add(keras.layers.Dense(300,kernel_initializer=\"he_normal\"))\n",
    "model.add(keras.layers.BatchNormalization())\n",
    "model.add(keras.layers.Activation('relu'))\n",
    "model.add(keras.layers.Dropout(rate = 0.2))\n",
    "model.add(keras.layers.Dense(10,activation='softmax',kernel_initializer=\"he_normal\"))"
   ]
  },
  {
   "cell_type": "code",
   "execution_count": 10,
   "metadata": {},
   "outputs": [
    {
     "name": "stdout",
     "output_type": "stream",
     "text": [
      "Model: \"sequential_1\"\n",
      "_________________________________________________________________\n",
      "Layer (type)                 Output Shape              Param #   \n",
      "=================================================================\n",
      "flatten_1 (Flatten)          (None, 784)               0         \n",
      "_________________________________________________________________\n",
      "dense_1 (Dense)              (None, 300)               235500    \n",
      "_________________________________________________________________\n",
      "batch_normalization_1 (Batch (None, 300)               1200      \n",
      "_________________________________________________________________\n",
      "activation (Activation)      (None, 300)               0         \n",
      "_________________________________________________________________\n",
      "dropout (Dropout)            (None, 300)               0         \n",
      "_________________________________________________________________\n",
      "dense_2 (Dense)              (None, 300)               90300     \n",
      "_________________________________________________________________\n",
      "batch_normalization_2 (Batch (None, 300)               1200      \n",
      "_________________________________________________________________\n",
      "activation_1 (Activation)    (None, 300)               0         \n",
      "_________________________________________________________________\n",
      "dropout_1 (Dropout)          (None, 300)               0         \n",
      "_________________________________________________________________\n",
      "dense_3 (Dense)              (None, 300)               90300     \n",
      "_________________________________________________________________\n",
      "batch_normalization_3 (Batch (None, 300)               1200      \n",
      "_________________________________________________________________\n",
      "activation_2 (Activation)    (None, 300)               0         \n",
      "_________________________________________________________________\n",
      "dropout_2 (Dropout)          (None, 300)               0         \n",
      "_________________________________________________________________\n",
      "dense_4 (Dense)              (None, 10)                3010      \n",
      "=================================================================\n",
      "Total params: 422,710\n",
      "Trainable params: 420,910\n",
      "Non-trainable params: 1,800\n",
      "_________________________________________________________________\n"
     ]
    }
   ],
   "source": [
    "model.summary()"
   ]
  },
  {
   "cell_type": "code",
   "execution_count": 11,
   "metadata": {},
   "outputs": [],
   "source": [
    "model.compile(loss=\"sparse_categorical_crossentropy\",optimizer=\"Adam\",metrics=[\"accuracy\"])"
   ]
  },
  {
   "cell_type": "code",
   "execution_count": 12,
   "metadata": {},
   "outputs": [],
   "source": [
    "early_stopping_cb = keras.callbacks.EarlyStopping(patience=10,restore_best_weights=True)\n",
    "checkpoint_cb = keras.callbacks.ModelCheckpoint(\"my_keras_model.h5\",save_best_only=True)\n",
    "tensorboard_cb = keras.callbacks.TensorBoard(run_logdir)"
   ]
  },
  {
   "cell_type": "code",
   "execution_count": 13,
   "metadata": {},
   "outputs": [
    {
     "name": "stdout",
     "output_type": "stream",
     "text": [
      "Train on 54000 samples, validate on 6000 samples\n",
      "Epoch 1/150\n",
      "   32/54000 [..............................] - ETA: 48:29 - loss: 3.1699 - accuracy: 0.0625WARNING:tensorflow:Method (on_train_batch_end) is slow compared to the batch update (0.338241). Check your callbacks.\n",
      "54000/54000 [==============================] - 8s 140us/sample - loss: 0.5509 - accuracy: 0.8027 - val_loss: 0.3736 - val_accuracy: 0.8558\n",
      "Epoch 2/150\n",
      "54000/54000 [==============================] - 5s 99us/sample - loss: 0.4190 - accuracy: 0.8470 - val_loss: 0.3813 - val_accuracy: 0.8585\n",
      "Epoch 3/150\n",
      "54000/54000 [==============================] - 5s 97us/sample - loss: 0.3831 - accuracy: 0.8591 - val_loss: 0.3376 - val_accuracy: 0.8747\n",
      "Epoch 4/150\n",
      "54000/54000 [==============================] - 5s 99us/sample - loss: 0.3570 - accuracy: 0.8687 - val_loss: 0.3286 - val_accuracy: 0.8835\n",
      "Epoch 5/150\n",
      "54000/54000 [==============================] - 6s 106us/sample - loss: 0.3363 - accuracy: 0.8764 - val_loss: 0.3260 - val_accuracy: 0.8800\n",
      "Epoch 6/150\n",
      "54000/54000 [==============================] - 5s 102us/sample - loss: 0.3194 - accuracy: 0.8824 - val_loss: 0.3226 - val_accuracy: 0.8773\n",
      "Epoch 7/150\n",
      "54000/54000 [==============================] - 6s 102us/sample - loss: 0.3067 - accuracy: 0.8872 - val_loss: 0.3019 - val_accuracy: 0.8892\n",
      "Epoch 8/150\n",
      "54000/54000 [==============================] - 6s 109us/sample - loss: 0.2931 - accuracy: 0.8907 - val_loss: 0.3413 - val_accuracy: 0.8730\n",
      "Epoch 9/150\n",
      "54000/54000 [==============================] - 5s 99us/sample - loss: 0.2839 - accuracy: 0.8940 - val_loss: 0.2970 - val_accuracy: 0.8923\n",
      "Epoch 10/150\n",
      "54000/54000 [==============================] - 6s 107us/sample - loss: 0.2730 - accuracy: 0.8982 - val_loss: 0.3520 - val_accuracy: 0.8778\n",
      "Epoch 11/150\n",
      "54000/54000 [==============================] - 5s 94us/sample - loss: 0.2648 - accuracy: 0.9001 - val_loss: 0.3163 - val_accuracy: 0.8818\n",
      "Epoch 12/150\n",
      "54000/54000 [==============================] - 5s 94us/sample - loss: 0.2574 - accuracy: 0.9037 - val_loss: 0.2978 - val_accuracy: 0.8880\n",
      "Epoch 13/150\n",
      "54000/54000 [==============================] - 5s 95us/sample - loss: 0.2491 - accuracy: 0.9059 - val_loss: 0.3046 - val_accuracy: 0.8923\n",
      "Epoch 14/150\n",
      "54000/54000 [==============================] - 5s 94us/sample - loss: 0.2431 - accuracy: 0.9085 - val_loss: 0.3114 - val_accuracy: 0.8892\n",
      "Epoch 15/150\n",
      "54000/54000 [==============================] - 5s 90us/sample - loss: 0.2369 - accuracy: 0.9106 - val_loss: 0.3195 - val_accuracy: 0.8893\n",
      "Epoch 16/150\n",
      "54000/54000 [==============================] - 5s 97us/sample - loss: 0.2306 - accuracy: 0.9138 - val_loss: 0.2906 - val_accuracy: 0.8952\n",
      "Epoch 17/150\n",
      "54000/54000 [==============================] - 5s 98us/sample - loss: 0.2234 - accuracy: 0.9155 - val_loss: 0.2945 - val_accuracy: 0.8925\n",
      "Epoch 18/150\n",
      "54000/54000 [==============================] - 5s 100us/sample - loss: 0.2221 - accuracy: 0.9164 - val_loss: 0.3056 - val_accuracy: 0.8942\n",
      "Epoch 19/150\n",
      "54000/54000 [==============================] - 5s 97us/sample - loss: 0.2157 - accuracy: 0.9195 - val_loss: 0.2980 - val_accuracy: 0.9003\n",
      "Epoch 20/150\n",
      "54000/54000 [==============================] - 5s 96us/sample - loss: 0.2093 - accuracy: 0.9208 - val_loss: 0.2891 - val_accuracy: 0.9008\n",
      "Epoch 21/150\n",
      "54000/54000 [==============================] - 5s 99us/sample - loss: 0.2074 - accuracy: 0.9218 - val_loss: 0.3034 - val_accuracy: 0.8972\n",
      "Epoch 22/150\n",
      "54000/54000 [==============================] - 5s 98us/sample - loss: 0.2006 - accuracy: 0.9246 - val_loss: 0.2993 - val_accuracy: 0.8970\n",
      "Epoch 23/150\n",
      "54000/54000 [==============================] - 5s 94us/sample - loss: 0.1998 - accuracy: 0.9239 - val_loss: 0.3306 - val_accuracy: 0.8893\n",
      "Epoch 24/150\n",
      "54000/54000 [==============================] - 5s 97us/sample - loss: 0.1956 - accuracy: 0.9265 - val_loss: 0.3179 - val_accuracy: 0.8928\n",
      "Epoch 25/150\n",
      "54000/54000 [==============================] - 5s 102us/sample - loss: 0.1923 - accuracy: 0.9285 - val_loss: 0.3016 - val_accuracy: 0.8972\n",
      "Epoch 26/150\n",
      "54000/54000 [==============================] - 6s 102us/sample - loss: 0.1851 - accuracy: 0.9303 - val_loss: 0.2997 - val_accuracy: 0.9023\n",
      "Epoch 27/150\n",
      "54000/54000 [==============================] - 5s 94us/sample - loss: 0.1828 - accuracy: 0.9306 - val_loss: 0.2944 - val_accuracy: 0.8995\n",
      "Epoch 28/150\n",
      "54000/54000 [==============================] - 6s 111us/sample - loss: 0.1828 - accuracy: 0.9306 - val_loss: 0.3224 - val_accuracy: 0.8920\n",
      "Epoch 29/150\n",
      "54000/54000 [==============================] - 6s 108us/sample - loss: 0.1784 - accuracy: 0.9331 - val_loss: 0.3044 - val_accuracy: 0.8995\n",
      "Epoch 30/150\n",
      "54000/54000 [==============================] - 6s 115us/sample - loss: 0.1733 - accuracy: 0.9342 - val_loss: 0.3050 - val_accuracy: 0.9027\n"
     ]
    }
   ],
   "source": [
    "history = model.fit(X_train_full, y_train_full, epochs=150,validation_split=0.1,callbacks=[early_stopping_cb,checkpoint_cb,tensorboard_cb])\n",
    "#run in terminal tensorboard --logdir=./my_logs --port=6006 and open http://localhost:6006/ in browser"
   ]
  },
  {
   "cell_type": "code",
   "execution_count": 14,
   "metadata": {},
   "outputs": [
    {
     "name": "stdout",
     "output_type": "stream",
     "text": [
      "10000/10000 [==============================] - 0s 37us/sample - loss: 0.3003 - accuracy: 0.8936\n"
     ]
    },
    {
     "data": {
      "text/plain": [
       "[0.30025175251960756, 0.8936]"
      ]
     },
     "execution_count": 14,
     "metadata": {},
     "output_type": "execute_result"
    }
   ],
   "source": [
    "model.evaluate(X_test,y_test)"
   ]
  },
  {
   "cell_type": "code",
   "execution_count": 15,
   "metadata": {},
   "outputs": [
    {
     "data": {
      "image/png": "[encoded data removed]",
      "text/plain": [
       "<Figure size 576x360 with 1 Axes>"
      ]
     },
     "metadata": {
      "needs_background": "light"
     },
     "output_type": "display_data"
    }
   ],
   "source": [
    "import pandas as pd\n",
    "import matplotlib.pyplot as plt\n",
    "pd.DataFrame(history.history).plot(figsize=(8, 5))\n",
    "plt.grid(True)\n",
    "plt.gca().set_ylim(0, 1) # set the vertical range to [0-1]\n",
    "plt.show()"
   ]
  },
  {
   "cell_type": "markdown",
   "metadata": {},
   "source": [
    "#### when using RMSProp it was very bad (not stable) for validation loss , also acc was 88.92%"
   ]
  },
  {
   "cell_type": "markdown",
   "metadata": {},
   "source": [
    "### load model"
   ]
  },
  {
   "cell_type": "code",
   "execution_count": 17,
   "metadata": {},
   "outputs": [],
   "source": [
    "model_loaded = keras.models.load_model(\"my_keras_model.h5\")"
   ]
  },
  {
   "cell_type": "code",
   "execution_count": 18,
   "metadata": {},
   "outputs": [
    {
     "name": "stdout",
     "output_type": "stream",
     "text": [
      "Model: \"sequential_1\"\n",
      "_________________________________________________________________\n",
      "Layer (type)                 Output Shape              Param #   \n",
      "=================================================================\n",
      "flatten_1 (Flatten)          (None, 784)               0         \n",
      "_________________________________________________________________\n",
      "dense_1 (Dense)              (None, 300)               235500    \n",
      "_________________________________________________________________\n",
      "batch_normalization_1 (Batch (None, 300)               1200      \n",
      "_________________________________________________________________\n",
      "activation (Activation)      (None, 300)               0         \n",
      "_________________________________________________________________\n",
      "dropout (Dropout)            (None, 300)               0         \n",
      "_________________________________________________________________\n",
      "dense_2 (Dense)              (None, 300)               90300     \n",
      "_________________________________________________________________\n",
      "batch_normalization_2 (Batch (None, 300)               1200      \n",
      "_________________________________________________________________\n",
      "activation_1 (Activation)    (None, 300)               0         \n",
      "_________________________________________________________________\n",
      "dropout_1 (Dropout)          (None, 300)               0         \n",
      "_________________________________________________________________\n",
      "dense_3 (Dense)              (None, 300)               90300     \n",
      "_________________________________________________________________\n",
      "batch_normalization_3 (Batch (None, 300)               1200      \n",
      "_________________________________________________________________\n",
      "activation_2 (Activation)    (None, 300)               0         \n",
      "_________________________________________________________________\n",
      "dropout_2 (Dropout)          (None, 300)               0         \n",
      "_________________________________________________________________\n",
      "dense_4 (Dense)              (None, 10)                3010      \n",
      "=================================================================\n",
      "Total params: 422,710\n",
      "Trainable params: 420,910\n",
      "Non-trainable params: 1,800\n",
      "_________________________________________________________________\n"
     ]
    }
   ],
   "source": [
    "model_loaded.summary()"
   ]
  },
  {
   "cell_type": "code",
   "execution_count": 31,
   "metadata": {},
   "outputs": [
    {
     "name": "stdout",
     "output_type": "stream",
     "text": [
      "['Ankle boot', 'Pullover', 'Trouser', 'Trouser', 'Shirt']\n"
     ]
    }
   ],
   "source": [
    "X_new = X_test[:5]\n",
    "classes = [class_names[class_name] for class_name in model_loaded.predict_classes(X_new)]\n",
    "print(classes)"
   ]
  },
  {
   "cell_type": "code",
   "execution_count": null,
   "metadata": {},
   "outputs": [],
   "source": []
  }
 ],
 "metadata": {
  "kernelspec": {
   "display_name": "Python 3",
   "language": "python",
   "name": "python3"
  },
  "language_info": {
   "codemirror_mode": {
    "name": "ipython",
    "version": 3
   },
   "file_extension": ".py",
   "mimetype": "text/x-python",
   "name": "python",
   "nbconvert_exporter": "python",
   "pygments_lexer": "ipython3",
   "version": "3.7.6"
  }
 },
 "nbformat": 4,
 "nbformat_minor": 4
}
